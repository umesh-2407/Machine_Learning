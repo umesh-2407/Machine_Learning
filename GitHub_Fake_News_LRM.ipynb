{
  "nbformat": 4,
  "nbformat_minor": 0,
  "metadata": {
    "colab": {
      "provenance": [],
      "authorship_tag": "ABX9TyOyXaJS4lOGdo7a/mdqWxX1",
      "include_colab_link": true
    },
    "kernelspec": {
      "name": "python3",
      "display_name": "Python 3"
    },
    "language_info": {
      "name": "python"
    }
  },
  "cells": [
    {
      "cell_type": "markdown",
      "metadata": {
        "id": "view-in-github",
        "colab_type": "text"
      },
      "source": [
        "<a href=\"https://colab.research.google.com/github/umesh-2407/Machine_Learning/blob/main/GitHub_Fake_News_LRM.ipynb\" target=\"_parent\"><img src=\"https://colab.research.google.com/assets/colab-badge.svg\" alt=\"Open In Colab\"/></a>"
      ]
    },
    {
      "cell_type": "code",
      "source": [
        "#IMPORTING LIBRARIES\n",
        "\n",
        "from google.colab import drive\n",
        "drive.mount('/content/drive')\n",
        "\n",
        "import numpy as np\n",
        "import pandas as pd\n",
        "import re\n",
        "import nltk\n",
        "from nltk.corpus import stopwords\n",
        "from nltk.stem.porter import PorterStemmer\n",
        "from sklearn.feature_extraction.text import TfidfVectorizer\n",
        "from sklearn.model_selection import train_test_split\n",
        "from sklearn.metrics import accuracy_score\n",
        "\n",
        "# Importing machine learning models\n",
        "from sklearn.linear_model import LogisticRegression\n",
        "from sklearn.svm import SVC\n",
        "from sklearn.ensemble import RandomForestClassifier\n",
        "from sklearn.naive_bayes import MultinomialNB\n",
        "from xgboost import XGBClassifier\n",
        "\n",
        "# Importing deep learning libraries\n",
        "import tensorflow as tf\n",
        "from tensorflow.keras.models import Sequential\n",
        "from tensorflow.keras.layers import Dense, Dropout\n",
        "\n",
        "# Download NLTK stopwords\n",
        "nltk.download('stopwords')\n"
      ],
      "metadata": {
        "id": "e1KqqeY71ENr",
        "colab": {
          "base_uri": "https://localhost:8080/"
        },
        "outputId": "12535070-e1bd-409a-ba0b-fa9d0cd332a3"
      },
      "execution_count": 24,
      "outputs": [
        {
          "output_type": "stream",
          "name": "stdout",
          "text": [
            "Drive already mounted at /content/drive; to attempt to forcibly remount, call drive.mount(\"/content/drive\", force_remount=True).\n"
          ]
        },
        {
          "output_type": "stream",
          "name": "stderr",
          "text": [
            "[nltk_data] Downloading package stopwords to /root/nltk_data...\n",
            "[nltk_data]   Package stopwords is already up-to-date!\n"
          ]
        },
        {
          "output_type": "execute_result",
          "data": {
            "text/plain": [
              "True"
            ]
          },
          "metadata": {},
          "execution_count": 24
        }
      ]
    },
    {
      "cell_type": "code",
      "source": [
        "#DATA PREPROCESSING and Exploration\n",
        "\n",
        "#Loading Dataset to pandas Datafarame\n",
        "news_dataset = pd.read_csv('/content/drive/MyDrive/ML_DataSets/Fake_News_Detection_1/train.csv')\n",
        "\n",
        "#Number of records in Data\n",
        "#news_dataset.shape\n",
        "\n",
        "#Print 5 first rows of the dataframe\n",
        "#news_dataset.head()\n",
        "\n",
        "#counting number of Missing values in dataset\n",
        "#news_dataset.isnull().sum()\n",
        "\n",
        "# Replacing null values with empty string\n",
        "news_dataset = news_dataset.fillna('')\n",
        "\n",
        "# merging the autor name and news title\n",
        "news_dataset['content'] = news_dataset['author'] + ' ' + news_dataset['title']\n",
        "\n",
        "#Pirinting Datset\n",
        "#print(news_dataset['content'])"
      ],
      "metadata": {
        "id": "_5B_YcJi1Ryl"
      },
      "execution_count": null,
      "outputs": []
    },
    {
      "cell_type": "code",
      "source": [
        "# Separating Data and Label\n",
        "X = news_dataset.drop(columns='label', axis=1)\n",
        "Y = news_dataset['label']\n",
        "\n",
        "port_stem = PorterStemmer()\n",
        "\n",
        "def stemming(content):\n",
        "  stemmed_content = re.sub('[^a-zA-Z]',' ',content)\n",
        "  stemmed_content = stemmed_content.lower()\n",
        "  stemmed_content = stemmed_content.split()\n",
        "  stemmed_content = [port_stem.stem(word) for word in stemmed_content if not word in stopwords.words('english')]\n",
        "  stemmed_content = ' '.join(stemmed_content)\n",
        "  return stemmed_content\n",
        "\n",
        "news_dataset['content'] = news_dataset['content'].apply(stemming)\n",
        "\n",
        "#print(news_dataset['content'])\n",
        "\n",
        "#Separating the data and label\n",
        "\n",
        "X = news_dataset['content'].values\n",
        "Y = news_dataset['label'].values\n",
        "\n",
        "#print(X)\n",
        "#print(Y)\n",
        "#Y.shape\n",
        "\n",
        "#Converting the Textual Data into NUmerical Data\n",
        "vectorizer = TfidfVectorizer()\n",
        "vectorizer.fit(X)\n",
        "\n",
        "X = vectorizer.transform(X)\n",
        "\n",
        "#print(X)\n",
        "\n",
        "#SPLITTING DATASET INTO TRAIN AND TEST\n",
        "X_train, X_test, Y_train, Y_test = train_test_split(X, Y, test_size=0.2, stratify=Y, random_state=2)\n"
      ],
      "metadata": {
        "id": "DNmegoBv12-S"
      },
      "execution_count": null,
      "outputs": []
    },
    {
      "cell_type": "code",
      "source": [
        "#TRAINING AND EVALUATION\n",
        "\n",
        "#FOR LOGICAL REGRESSION MODEL\n",
        "print('Logical Regression Model')\n",
        "#TRAINING\n",
        "model = LogisticRegression()\n",
        "model.fit(X_train, Y_train)\n",
        "\n",
        "#EVALUATION\n",
        "#ACCURACY SCORE on Training Data\n",
        "\n",
        "X_train_Prediction = model.predict(X_train)\n",
        "Training_Data_Accuracy = accuracy_score(X_train_Prediction, Y_train)\n",
        "\n",
        "#print(X_train_Prediction)\n",
        "#print('Accuracy Score of Training data : ',Training_Data_Accuracy * 100 , '%')\n",
        "print('Accuracy Score of Training data : ', \"%.2f\" % round((Training_Data_Accuracy * 100), 2) ,'%')\n",
        "\n",
        "#ACCURACY SCORE on Test Data\n",
        "\n",
        "X_test_Prediction = model.predict(X_test)\n",
        "Test_Data_Accuracy = accuracy_score(X_test_Prediction, Y_test)\n",
        "\n",
        "#print(X_test_Prediction)\n",
        "#print('Accuracy Score of Test data : ',Test_Data_Accuracy)\n",
        "print('Accuracy Score of Test data : ', \"%.2f\" % round((Test_Data_Accuracy * 100), 2), '%')\n"
      ],
      "metadata": {
        "colab": {
          "base_uri": "https://localhost:8080/"
        },
        "id": "qwdipg2F2Icy",
        "outputId": "bf439455-7bbb-42d8-ff64-24ffefdc4182"
      },
      "execution_count": 20,
      "outputs": [
        {
          "output_type": "stream",
          "name": "stdout",
          "text": [
            "Logical Regression Model\n",
            "Accuracy Score of Training data :  98.64 %\n",
            "Accuracy Score of Test data :  97.91 %\n"
          ]
        }
      ]
    },
    {
      "cell_type": "code",
      "source": [
        "print('Support Vector Machine Model')\n",
        "\n",
        "# TRAINING\n",
        "svm_model = SVC(kernel='linear')\n",
        "svm_model.fit(X_train, Y_train)\n",
        "\n",
        "# EVALUATION\n",
        "# ACCURACY SCORE on Training Data\n",
        "X_train_Prediction = svm_model.predict(X_train)\n",
        "Training_Data_Accuracy = accuracy_score(X_train_Prediction, Y_train)\n",
        "print('Accuracy Score of Training data : ', \"%.2f\" % round((Training_Data_Accuracy * 100), 2) ,'%')\n",
        "\n",
        "# ACCURACY SCORE on Test Data\n",
        "X_test_Prediction = svm_model.predict(X_test)\n",
        "Test_Data_Accuracy = accuracy_score(X_test_Prediction, Y_test)\n",
        "print('Accuracy Score of Test data : ', \"%.2f\" % round((Test_Data_Accuracy * 100), 2), '%')\n"
      ],
      "metadata": {
        "colab": {
          "base_uri": "https://localhost:8080/"
        },
        "id": "fA_l80GA8AtD",
        "outputId": "60fd4497-2a33-4e56-b2c4-ac018d6a5eea"
      },
      "execution_count": 21,
      "outputs": [
        {
          "output_type": "stream",
          "name": "stdout",
          "text": [
            "Support Vector Machine Model\n",
            "Accuracy Score of Training data :  99.74 %\n",
            "Accuracy Score of Test data :  99.13 %\n"
          ]
        }
      ]
    },
    {
      "cell_type": "code",
      "source": [
        "print('Random Forest Model')\n",
        "\n",
        "# TRAINING\n",
        "rf_model = RandomForestClassifier(n_estimators=100, random_state=2)\n",
        "rf_model.fit(X_train, Y_train)\n",
        "\n",
        "# EVALUATION\n",
        "# ACCURACY SCORE on Training Data\n",
        "X_train_Prediction = rf_model.predict(X_train)\n",
        "Training_Data_Accuracy = accuracy_score(X_train_Prediction, Y_train)\n",
        "print('Accuracy Score of Training data : ', \"%.2f\" % round((Training_Data_Accuracy * 100), 2) ,'%')\n",
        "\n",
        "# ACCURACY SCORE on Test Data\n",
        "X_test_Prediction = rf_model.predict(X_test)\n",
        "Test_Data_Accuracy = accuracy_score(X_test_Prediction, Y_test)\n",
        "print('Accuracy Score of Test data : ', \"%.2f\" % round((Test_Data_Accuracy * 100), 2), '%')\n"
      ],
      "metadata": {
        "colab": {
          "base_uri": "https://localhost:8080/"
        },
        "id": "NuAIc0PQ8Apg",
        "outputId": "5ef9a04f-90b7-462a-acfe-536df80c8b05"
      },
      "execution_count": 25,
      "outputs": [
        {
          "output_type": "stream",
          "name": "stdout",
          "text": [
            "Random Forest Model\n",
            "Accuracy Score of Training data :  100.00 %\n",
            "Accuracy Score of Test data :  99.38 %\n"
          ]
        }
      ]
    },
    {
      "cell_type": "code",
      "source": [
        "print('Naïve Bayes Model')\n",
        "\n",
        "# TRAINING\n",
        "nb_model = MultinomialNB()\n",
        "nb_model.fit(X_train, Y_train)\n",
        "\n",
        "# EVALUATION\n",
        "# ACCURACY SCORE on Training Data\n",
        "X_train_Prediction = nb_model.predict(X_train)\n",
        "Training_Data_Accuracy = accuracy_score(X_train_Prediction, Y_train)\n",
        "print('Accuracy Score of Training data : ', \"%.2f\" % round((Training_Data_Accuracy * 100), 2) ,'%')\n",
        "\n",
        "# ACCURACY SCORE on Test Data\n",
        "X_test_Prediction = nb_model.predict(X_test)\n",
        "Test_Data_Accuracy = accuracy_score(X_test_Prediction, Y_test)\n",
        "print('Accuracy Score of Test data : ', \"%.2f\" % round((Test_Data_Accuracy * 100), 2), '%')\n"
      ],
      "metadata": {
        "colab": {
          "base_uri": "https://localhost:8080/"
        },
        "id": "j-vRdpmn8AmT",
        "outputId": "6c509b4e-ccb0-4f11-a4da-84e1d950a6ab"
      },
      "execution_count": 26,
      "outputs": [
        {
          "output_type": "stream",
          "name": "stdout",
          "text": [
            "Naïve Bayes Model\n",
            "Accuracy Score of Training data :  97.82 %\n",
            "Accuracy Score of Test data :  95.50 %\n"
          ]
        }
      ]
    },
    {
      "cell_type": "code",
      "source": [
        "print('XGBoost Model')\n",
        "\n",
        "# TRAINING\n",
        "xgb_model = XGBClassifier(use_label_encoder=False, eval_metric='logloss')\n",
        "xgb_model.fit(X_train, Y_train)\n",
        "\n",
        "# EVALUATION\n",
        "# ACCURACY SCORE on Training Data\n",
        "X_train_Prediction = xgb_model.predict(X_train)\n",
        "Training_Data_Accuracy = accuracy_score(X_train_Prediction, Y_train)\n",
        "print('Accuracy Score of Training data : ', \"%.2f\" % round((Training_Data_Accuracy * 100), 2) ,'%')\n",
        "\n",
        "# ACCURACY SCORE on Test Data\n",
        "X_test_Prediction = xgb_model.predict(X_test)\n",
        "Test_Data_Accuracy = accuracy_score(X_test_Prediction, Y_test)\n",
        "print('Accuracy Score of Test data : ', \"%.2f\" % round((Test_Data_Accuracy * 100), 2), '%')\n"
      ],
      "metadata": {
        "colab": {
          "base_uri": "https://localhost:8080/"
        },
        "id": "-zMwHkOo8Ah8",
        "outputId": "03c7df5b-d6df-47c5-c6a7-a58709cf8de7"
      },
      "execution_count": 27,
      "outputs": [
        {
          "output_type": "stream",
          "name": "stdout",
          "text": [
            "XGBoost Model\n"
          ]
        },
        {
          "output_type": "stream",
          "name": "stderr",
          "text": [
            "/usr/local/lib/python3.11/dist-packages/xgboost/core.py:158: UserWarning: [15:23:55] WARNING: /workspace/src/learner.cc:740: \n",
            "Parameters: { \"use_label_encoder\" } are not used.\n",
            "\n",
            "  warnings.warn(smsg, UserWarning)\n"
          ]
        },
        {
          "output_type": "stream",
          "name": "stdout",
          "text": [
            "Accuracy Score of Training data :  99.42 %\n",
            "Accuracy Score of Test data :  98.75 %\n"
          ]
        }
      ]
    },
    {
      "cell_type": "code",
      "source": [
        "print('Neural Network Model')\n",
        "\n",
        "# Creating the model\n",
        "nn_model = Sequential([\n",
        "    Dense(128, activation='relu', input_shape=(X_train.shape[1],)),\n",
        "    Dropout(0.3),\n",
        "    Dense(64, activation='relu'),\n",
        "    Dropout(0.3),\n",
        "    Dense(1, activation='sigmoid')\n",
        "])\n",
        "\n",
        "# Compiling the model\n",
        "nn_model.compile(optimizer='adam', loss='binary_crossentropy', metrics=['accuracy'])\n",
        "\n",
        "# TRAINING\n",
        "nn_model.fit(X_train, Y_train, epochs=10, batch_size=32, validation_data=(X_test, Y_test), verbose=1)\n",
        "\n",
        "# EVALUATION\n",
        "train_loss, train_acc = nn_model.evaluate(X_train, Y_train)\n",
        "print('Accuracy Score of Training data : ', \"%.2f\" % round((train_acc * 100), 2) ,'%')\n",
        "\n",
        "test_loss, test_acc = nn_model.evaluate(X_test, Y_test)\n",
        "print('Accuracy Score of Test data : ', \"%.2f\" % round((test_acc * 100), 2), '%')\n"
      ],
      "metadata": {
        "colab": {
          "base_uri": "https://localhost:8080/"
        },
        "id": "FAh3uclc9dOW",
        "outputId": "e86975b9-c060-4038-b6a1-edaf49dc8bb0"
      },
      "execution_count": 28,
      "outputs": [
        {
          "output_type": "stream",
          "name": "stdout",
          "text": [
            "Neural Network Model\n"
          ]
        },
        {
          "output_type": "stream",
          "name": "stderr",
          "text": [
            "/usr/local/lib/python3.11/dist-packages/keras/src/layers/core/dense.py:87: UserWarning: Do not pass an `input_shape`/`input_dim` argument to a layer. When using Sequential models, prefer using an `Input(shape)` object as the first layer in the model instead.\n",
            "  super().__init__(activity_regularizer=activity_regularizer, **kwargs)\n"
          ]
        },
        {
          "output_type": "stream",
          "name": "stdout",
          "text": [
            "Epoch 1/10\n",
            "\u001b[1m520/520\u001b[0m \u001b[32m━━━━━━━━━━━━━━━━━━━━\u001b[0m\u001b[37m\u001b[0m \u001b[1m21s\u001b[0m 36ms/step - accuracy: 0.8423 - loss: 0.3332 - val_accuracy: 0.9863 - val_loss: 0.0396\n",
            "Epoch 2/10\n",
            "\u001b[1m520/520\u001b[0m \u001b[32m━━━━━━━━━━━━━━━━━━━━\u001b[0m\u001b[37m\u001b[0m \u001b[1m18s\u001b[0m 32ms/step - accuracy: 0.9970 - loss: 0.0099 - val_accuracy: 0.9889 - val_loss: 0.0356\n",
            "Epoch 3/10\n",
            "\u001b[1m520/520\u001b[0m \u001b[32m━━━━━━━━━━━━━━━━━━━━\u001b[0m\u001b[37m\u001b[0m \u001b[1m22s\u001b[0m 43ms/step - accuracy: 0.9995 - loss: 0.0025 - val_accuracy: 0.9856 - val_loss: 0.0471\n",
            "Epoch 4/10\n",
            "\u001b[1m520/520\u001b[0m \u001b[32m━━━━━━━━━━━━━━━━━━━━\u001b[0m\u001b[37m\u001b[0m \u001b[1m16s\u001b[0m 31ms/step - accuracy: 0.9996 - loss: 0.0018 - val_accuracy: 0.9873 - val_loss: 0.0447\n",
            "Epoch 5/10\n",
            "\u001b[1m520/520\u001b[0m \u001b[32m━━━━━━━━━━━━━━━━━━━━\u001b[0m\u001b[37m\u001b[0m \u001b[1m16s\u001b[0m 32ms/step - accuracy: 0.9999 - loss: 4.5173e-04 - val_accuracy: 0.9861 - val_loss: 0.0475\n",
            "Epoch 6/10\n",
            "\u001b[1m520/520\u001b[0m \u001b[32m━━━━━━━━━━━━━━━━━━━━\u001b[0m\u001b[37m\u001b[0m \u001b[1m23s\u001b[0m 37ms/step - accuracy: 1.0000 - loss: 1.3379e-04 - val_accuracy: 0.9856 - val_loss: 0.0505\n",
            "Epoch 7/10\n",
            "\u001b[1m520/520\u001b[0m \u001b[32m━━━━━━━━━━━━━━━━━━━━\u001b[0m\u001b[37m\u001b[0m \u001b[1m17s\u001b[0m 33ms/step - accuracy: 1.0000 - loss: 8.6262e-05 - val_accuracy: 0.9861 - val_loss: 0.0525\n",
            "Epoch 8/10\n",
            "\u001b[1m520/520\u001b[0m \u001b[32m━━━━━━━━━━━━━━━━━━━━\u001b[0m\u001b[37m\u001b[0m \u001b[1m21s\u001b[0m 33ms/step - accuracy: 1.0000 - loss: 5.9344e-05 - val_accuracy: 0.9861 - val_loss: 0.0539\n",
            "Epoch 9/10\n",
            "\u001b[1m520/520\u001b[0m \u001b[32m━━━━━━━━━━━━━━━━━━━━\u001b[0m\u001b[37m\u001b[0m \u001b[1m18s\u001b[0m 34ms/step - accuracy: 1.0000 - loss: 4.2782e-05 - val_accuracy: 0.9858 - val_loss: 0.0558\n",
            "Epoch 10/10\n",
            "\u001b[1m520/520\u001b[0m \u001b[32m━━━━━━━━━━━━━━━━━━━━\u001b[0m\u001b[37m\u001b[0m \u001b[1m27s\u001b[0m 47ms/step - accuracy: 1.0000 - loss: 2.2040e-05 - val_accuracy: 0.9858 - val_loss: 0.0570\n",
            "\u001b[1m520/520\u001b[0m \u001b[32m━━━━━━━━━━━━━━━━━━━━\u001b[0m\u001b[37m\u001b[0m \u001b[1m3s\u001b[0m 6ms/step - accuracy: 1.0000 - loss: 4.3795e-06\n",
            "Accuracy Score of Training data :  100.00 %\n",
            "\u001b[1m130/130\u001b[0m \u001b[32m━━━━━━━━━━━━━━━━━━━━\u001b[0m\u001b[37m\u001b[0m \u001b[1m1s\u001b[0m 6ms/step - accuracy: 0.9818 - loss: 0.0778\n",
            "Accuracy Score of Test data :  98.58 %\n"
          ]
        }
      ]
    },
    {
      "cell_type": "code",
      "source": [
        "#MAKING A PREDICTIVE SYSTEM\n",
        "\n",
        "X_new = X_test[99]\n",
        "\n",
        "prediction = model.predict(X_new)\n",
        "\n",
        "if (prediction[0]==0):\n",
        "  print('The News is Real')\n",
        "else:\n",
        "  print('The News is Fake')\n",
        "\n",
        "print('Actual Data : ',Y_test[99])\n",
        "print('Prediction : ', prediction)"
      ],
      "metadata": {
        "id": "1cfl5IEx2MXx"
      },
      "execution_count": null,
      "outputs": []
    }
  ]
}