{
  "nbformat": 4,
  "nbformat_minor": 0,
  "metadata": {
    "colab": {
      "provenance": [],
      "authorship_tag": "ABX9TyMSwOn0E2uHdoOZMa/015zY",
      "include_colab_link": true
    },
    "kernelspec": {
      "name": "python3",
      "display_name": "Python 3"
    },
    "language_info": {
      "name": "python"
    }
  },
  "cells": [
    {
      "cell_type": "markdown",
      "metadata": {
        "id": "view-in-github",
        "colab_type": "text"
      },
      "source": [
        "<a href=\"https://colab.research.google.com/github/umesh-2407/Machine_Learning/blob/main/GitHub_Fake_News_LRM.ipynb\" target=\"_parent\"><img src=\"https://colab.research.google.com/assets/colab-badge.svg\" alt=\"Open In Colab\"/></a>"
      ]
    },
    {
      "cell_type": "code",
      "source": [
        "#IMPORTING LIBRARIES\n",
        "\n",
        "from google.colab import drive\n",
        "drive.mount('/content/drive')\n",
        "\n",
        "import numpy as np\n",
        "import pandas as pd\n",
        "import re\n",
        "from nltk.corpus import stopwords\n",
        "from nltk.stem.porter import PorterStemmer\n",
        "from sklearn.feature_extraction.text import TfidfVectorizer\n",
        "from sklearn.model_selection import train_test_split\n",
        "from sklearn.linear_model import LogisticRegression\n",
        "from sklearn.metrics import accuracy_score\n",
        "\n",
        "import nltk\n",
        "nltk.download('stopwords')"
      ],
      "metadata": {
        "colab": {
          "base_uri": "https://localhost:8080/"
        },
        "id": "e1KqqeY71ENr",
        "outputId": "b33d93f8-852e-4819-ed45-f4018d4d1f71"
      },
      "execution_count": 1,
      "outputs": [
        {
          "output_type": "stream",
          "name": "stdout",
          "text": [
            "Mounted at /content/drive\n"
          ]
        },
        {
          "output_type": "stream",
          "name": "stderr",
          "text": [
            "[nltk_data] Downloading package stopwords to /root/nltk_data...\n",
            "[nltk_data]   Unzipping corpora/stopwords.zip.\n"
          ]
        },
        {
          "output_type": "execute_result",
          "data": {
            "text/plain": [
              "True"
            ]
          },
          "metadata": {},
          "execution_count": 1
        }
      ]
    },
    {
      "cell_type": "code",
      "source": [
        "#DATA PREPROCESSING and Exploration\n",
        "\n",
        "#Loading Dataset to pandas Datafarame\n",
        "news_dataset = pd.read_csv('/content/drive/MyDrive/ML_DataSets/Fake_News_Detection_1/train.csv')\n",
        "\n",
        "#Number of records in Data\n",
        "#news_dataset.shape\n",
        "\n",
        "#Print 5 first rows of the dataframe\n",
        "#news_dataset.head()\n",
        "\n",
        "#counting number of Missing values in dataset\n",
        "#news_dataset.isnull().sum()\n",
        "\n",
        "# Replacing null values with empty string\n",
        "news_dataset = news_dataset.fillna('')\n",
        "\n",
        "# merging the autor name and news title\n",
        "news_dataset['content'] = news_dataset['author'] + ' ' + news_dataset['title']\n",
        "\n",
        "#Pirinting Datset\n",
        "#print(news_dataset['content'])"
      ],
      "metadata": {
        "id": "_5B_YcJi1Ryl"
      },
      "execution_count": 2,
      "outputs": []
    },
    {
      "cell_type": "code",
      "source": [
        "# Separating Data and Label\n",
        "X = news_dataset.drop(columns='label', axis=1)\n",
        "Y = news_dataset['label']\n",
        "\n",
        "port_stem = PorterStemmer()\n",
        "\n",
        "def stemming(content):\n",
        "  stemmed_content = re.sub('[^a-zA-Z]',' ',content)\n",
        "  stemmed_content = stemmed_content.lower()\n",
        "  stemmed_content = stemmed_content.split()\n",
        "  stemmed_content = [port_stem.stem(word) for word in stemmed_content if not word in stopwords.words('english')]\n",
        "  stemmed_content = ' '.join(stemmed_content)\n",
        "  return stemmed_content\n",
        "\n",
        "news_dataset['content'] = news_dataset['content'].apply(stemming)\n",
        "\n",
        "#print(news_dataset['content'])\n",
        "\n",
        "#Separating the data and label\n",
        "\n",
        "X = news_dataset['content'].values\n",
        "Y = news_dataset['label'].values\n",
        "\n",
        "#print(X)\n",
        "#print(Y)\n",
        "#Y.shape\n",
        "\n",
        "#Converting the Textual Data into NUmerical Data\n",
        "vectorizer = TfidfVectorizer()\n",
        "vectorizer.fit(X)\n",
        "\n",
        "X = vectorizer.transform(X)\n",
        "\n",
        "#print(X)"
      ],
      "metadata": {
        "id": "DNmegoBv12-S"
      },
      "execution_count": 3,
      "outputs": []
    },
    {
      "cell_type": "code",
      "source": [
        "#SPLITTING DATASET INTO TRAIN AND TEST\n",
        "X_train, X_test, Y_train, Y_test = train_test_split(X, Y, test_size=0.2, stratify=Y, random_state=2)\n"
      ],
      "metadata": {
        "id": "-OZDWtv32Bzh"
      },
      "execution_count": 13,
      "outputs": []
    },
    {
      "cell_type": "code",
      "source": [
        "#TRAINING AND EVALUATION\n",
        "\n",
        "#FOR LOGICAL REGRESSION MODEL\n",
        "print('Logical Regression Model')\n",
        "#TRAINING\n",
        "model = LogisticRegression()\n",
        "model.fit(X_train, Y_train)\n",
        "\n",
        "#EVALUATION\n",
        "#ACCURACY SCORE on Training Data\n",
        "\n",
        "X_train_Prediction = model.predict(X_train)\n",
        "Training_Data_Accuracy = accuracy_score(X_train_Prediction, Y_train)\n",
        "\n",
        "#print(X_train_Prediction)\n",
        "#print('Accuracy Score of Training data : ',Training_Data_Accuracy * 100 , '%')\n",
        "print('Accuracy Score of Training data : ', \"%.2f\" % round((Training_Data_Accuracy * 100), 2) ,'%')\n",
        "\n",
        "#ACCURACY SCORE on Test Data\n",
        "\n",
        "X_test_Prediction = model.predict(X_test)\n",
        "Test_Data_Accuracy = accuracy_score(X_test_Prediction, Y_test)\n",
        "\n",
        "#print(X_test_Prediction)\n",
        "#print('Accuracy Score of Test data : ',Test_Data_Accuracy)\n",
        "print('Accuracy Score of Test data : ', \"%.2f\" % round((Test_Data_Accuracy * 100), 2), '%')"
      ],
      "metadata": {
        "colab": {
          "base_uri": "https://localhost:8080/"
        },
        "id": "qwdipg2F2Icy",
        "outputId": "7e04c34f-f407-4fa8-cd60-52332c94f268"
      },
      "execution_count": 15,
      "outputs": [
        {
          "output_type": "stream",
          "name": "stdout",
          "text": [
            "Logical Regression Model\n",
            "Accuracy Score of Training data :  98.64 %\n",
            "Accuracy Score of Test data :  97.91 %\n"
          ]
        }
      ]
    },
    {
      "cell_type": "code",
      "source": [
        "#MAKING A PREDICTIVE SYSTEM\n",
        "\n",
        "X_new = X_test[99]\n",
        "\n",
        "prediction = model.predict(X_new)\n",
        "\n",
        "if (prediction[0]==0):\n",
        "  print('The News is Real')\n",
        "else:\n",
        "  print('The News is Fake')\n",
        "\n",
        "print('Actual Data : ',Y_test[99])\n",
        "print('Prediction : ', prediction)"
      ],
      "metadata": {
        "colab": {
          "base_uri": "https://localhost:8080/"
        },
        "id": "1cfl5IEx2MXx",
        "outputId": "770060df-dd60-4c0b-dda2-722badc2fe78"
      },
      "execution_count": 12,
      "outputs": [
        {
          "output_type": "stream",
          "name": "stdout",
          "text": [
            "The News is Fake\n",
            "Actual Data :  1\n",
            "Prediction :  [1]\n"
          ]
        }
      ]
    }
  ]
}