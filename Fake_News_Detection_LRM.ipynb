{
  "cells": [
    {
      "cell_type": "code",
      "source": [
        "from google.colab import drive\n",
        "drive.mount('/content/drive')"
      ],
      "metadata": {
        "id": "t2A5jENKqrmd"
      },
      "execution_count": null,
      "outputs": []
    },
    {
      "cell_type": "code",
      "source": [
        "import numpy as np\n",
        "import pandas as pd\n",
        "import re\n",
        "from nltk.corpus import stopwords\n",
        "from nltk.stem.porter import PorterStemmer\n",
        "from sklearn.feature_extraction.text import TfidfVectorizer\n",
        "from sklearn.model_selection import train_test_split\n",
        "from sklearn.linear_model import LogisticRegression\n",
        "from sklearn.metrics import accuracy_score\n"
      ],
      "metadata": {
        "id": "pu0PglHGqvEP"
      },
      "execution_count": 14,
      "outputs": []
    },
    {
      "cell_type": "code",
      "source": [
        "import nltk\n",
        "nltk.download('stopwords')\n"
      ],
      "metadata": {
        "collapsed": true,
        "id": "y7_9e8aoxc4c"
      },
      "execution_count": null,
      "outputs": []
    },
    {
      "cell_type": "code",
      "source": [
        "#Printing Stop Words\n",
        "#print(stopwords.words('english'))\n"
      ],
      "metadata": {
        "collapsed": true,
        "id": "TnWV-BSlxrl2"
      },
      "execution_count": 16,
      "outputs": []
    },
    {
      "cell_type": "markdown",
      "source": [
        "DATA PREPROCESSING\n"
      ],
      "metadata": {
        "id": "vLjy4vQpx5je"
      }
    },
    {
      "cell_type": "code",
      "source": [
        "#Loading Dataset to pandas Datafarame\n",
        "news_dataset = pd.read_csv('/content/drive/MyDrive/ML_DataSets/Fake_News_Detection_1/train.csv')"
      ],
      "metadata": {
        "id": "Qg8LU3cm0Ll1"
      },
      "execution_count": 17,
      "outputs": []
    },
    {
      "cell_type": "code",
      "source": [
        "news_dataset.shape"
      ],
      "metadata": {
        "id": "rMO_9vdwzed7"
      },
      "execution_count": null,
      "outputs": []
    },
    {
      "cell_type": "code",
      "source": [
        "#Print 5 first rows of the dataframe\n",
        "news_dataset.head()"
      ],
      "metadata": {
        "collapsed": true,
        "id": "qnQ6hj1MzofS"
      },
      "execution_count": null,
      "outputs": []
    },
    {
      "cell_type": "code",
      "source": [
        "#counting number of Missing values in dataset\n",
        "news_dataset.isnull().sum()"
      ],
      "metadata": {
        "collapsed": true,
        "id": "5hjQib3cytgM"
      },
      "execution_count": null,
      "outputs": []
    },
    {
      "cell_type": "code",
      "source": [
        "# Replacing null values with empty string\n",
        "news_dataset = news_dataset.fillna('')"
      ],
      "metadata": {
        "id": "eDPNRyVkz4vE"
      },
      "execution_count": 21,
      "outputs": []
    },
    {
      "cell_type": "code",
      "source": [
        "# merging the autor name and news title\n",
        "news_dataset['content'] = news_dataset['author'] + ' ' + news_dataset['title']"
      ],
      "metadata": {
        "id": "mxVyl2Vf0fqC"
      },
      "execution_count": 22,
      "outputs": []
    },
    {
      "cell_type": "code",
      "source": [
        "#Pirinting Datset\n",
        "#print(news_dataset['content'])"
      ],
      "metadata": {
        "collapsed": true,
        "id": "Xec5eBH-1I73"
      },
      "execution_count": 23,
      "outputs": []
    },
    {
      "cell_type": "code",
      "source": [
        "# Separating Data and Label\n",
        "X = news_dataset.drop(columns='label', axis=1)\n",
        "Y = news_dataset['label']"
      ],
      "metadata": {
        "id": "UXt217xg1aOp"
      },
      "execution_count": 24,
      "outputs": []
    },
    {
      "cell_type": "markdown",
      "source": [
        "**STEMMING**"
      ],
      "metadata": {
        "id": "Tw0uvjoR2FT2"
      }
    },
    {
      "cell_type": "code",
      "source": [
        "port_stem = PorterStemmer()\n",
        "\n",
        "def stemming(content):\n",
        "  stemmed_content = re.sub('[^a-zA-Z]',' ',content)\n",
        "  stemmed_content = stemmed_content.lower()\n",
        "  stemmed_content = stemmed_content.split()\n",
        "  stemmed_content = [port_stem.stem(word) for word in stemmed_content if not word in stopwords.words('english')]\n",
        "  stemmed_content = ' '.join(stemmed_content)\n",
        "  return stemmed_content"
      ],
      "metadata": {
        "id": "vkEql46r5f9V"
      },
      "execution_count": 25,
      "outputs": []
    },
    {
      "cell_type": "code",
      "source": [
        "news_dataset['content'] = news_dataset['content'].apply(stemming)"
      ],
      "metadata": {
        "id": "5XvQNp1a5oMl"
      },
      "execution_count": 27,
      "outputs": []
    },
    {
      "cell_type": "code",
      "source": [
        "print(news_dataset['content'])"
      ],
      "metadata": {
        "collapsed": true,
        "id": "3ZGepmdXrm7e"
      },
      "execution_count": null,
      "outputs": []
    },
    {
      "cell_type": "code",
      "source": [
        "#Separating the data and label\n",
        "\n",
        "X = news_dataset['content'].values\n",
        "Y = news_dataset['label'].values\n"
      ],
      "metadata": {
        "id": "6eJ5peSIr5vx"
      },
      "execution_count": 49,
      "outputs": []
    },
    {
      "cell_type": "code",
      "source": [
        "print(X)\n",
        "print(Y)\n",
        "Y.shape"
      ],
      "metadata": {
        "id": "gisW-8WhsKtr"
      },
      "execution_count": null,
      "outputs": []
    },
    {
      "cell_type": "code",
      "source": [
        "#Converting the Textual Data into NUmerical Data\n",
        "vectorizer = TfidfVectorizer()\n",
        "vectorizer.fit(X)\n",
        "\n",
        "X = vectorizer.transform(X)\n"
      ],
      "metadata": {
        "id": "7VbWNv5Ksj-5"
      },
      "execution_count": 51,
      "outputs": []
    },
    {
      "cell_type": "code",
      "source": [
        "print(X)"
      ],
      "metadata": {
        "collapsed": true,
        "id": "VOQpv-fDtfxc"
      },
      "execution_count": null,
      "outputs": []
    },
    {
      "cell_type": "markdown",
      "source": [
        "**[SPLITTING DATASET INTO TRAIN AND TEST](https://)**"
      ],
      "metadata": {
        "id": "f8lAD7P0tmdd"
      }
    },
    {
      "cell_type": "code",
      "source": [
        "X_train, X_test, Y_train, Y_test = train_test_split(X, Y, test_size=0.2, stratify=Y, random_state=2)"
      ],
      "metadata": {
        "id": "ld2_wbnHtr9u"
      },
      "execution_count": 53,
      "outputs": []
    },
    {
      "cell_type": "markdown",
      "source": [
        "**TRAINIG THE LOGISTIC REGRESSION MODEL**\n",
        "\n"
      ],
      "metadata": {
        "id": "i1Vc1FrwuaK9"
      }
    },
    {
      "cell_type": "code",
      "source": [
        "model = LogisticRegression()"
      ],
      "metadata": {
        "id": "EllZ5HEguDcb"
      },
      "execution_count": 54,
      "outputs": []
    },
    {
      "cell_type": "code",
      "source": [
        "model.fit(X_train, Y_train)"
      ],
      "metadata": {
        "id": "WWe7YJ0mu4kf"
      },
      "execution_count": null,
      "outputs": []
    },
    {
      "cell_type": "markdown",
      "source": [
        "**EVALUATION**"
      ],
      "metadata": {
        "id": "ScYgGlMPvHVD"
      }
    },
    {
      "cell_type": "code",
      "source": [
        "#ACCURACY SCORE on Training Data\n",
        "\n",
        "X_train_Prediction = model.predict(X_train)\n",
        "Training_Data_Accuracy = accuracy_score(X_train_Prediction, Y_train)\n",
        "\n",
        "print(X_train_Prediction)\n",
        "print('Accuracy Score of Trainig data : ',Training_Data_Accuracy)\n"
      ],
      "metadata": {
        "id": "RzIq3k6jvYNx"
      },
      "execution_count": null,
      "outputs": []
    },
    {
      "cell_type": "code",
      "source": [
        "#ACCURACY SCORE on Test Data\n",
        "\n",
        "X_test_Prediction = model.predict(X_test)\n",
        "Test_Data_Accuracy = accuracy_score(X_test_Prediction, Y_test)\n",
        "\n",
        "print(X_test_Prediction)\n",
        "print('Accuracy Score of Test data : ',Test_Data_Accuracy)"
      ],
      "metadata": {
        "id": "ctU1pEdyvwWK"
      },
      "execution_count": null,
      "outputs": []
    },
    {
      "cell_type": "markdown",
      "source": [
        "**MAKING A PREDICTIVE SYSTEM**"
      ],
      "metadata": {
        "id": "_adpFtx8wBGS"
      }
    },
    {
      "cell_type": "code",
      "source": [
        "X_new = X_test[99]\n",
        "\n",
        "prediction = model.predict(X_new)\n",
        "\n",
        "if (prediction[0]==0):\n",
        "  print('The News is Real')\n",
        "else:\n",
        "  print('The News is Fake')\n",
        "\n",
        "#print(prediction)\n",
        "#print(Y_test[99])"
      ],
      "metadata": {
        "id": "1GUVIiqBwLm5"
      },
      "execution_count": null,
      "outputs": []
    }
  ],
  "metadata": {
    "language_info": {
      "name": "python"
    },
    "colab": {
      "provenance": []
    },
    "kernelspec": {
      "name": "python3",
      "display_name": "Python 3"
    }
  },
  "nbformat": 4,
  "nbformat_minor": 0
}